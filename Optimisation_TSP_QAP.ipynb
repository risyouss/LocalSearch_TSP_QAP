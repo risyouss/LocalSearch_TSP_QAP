{
  "cells": [
    {
      "cell_type": "code",
      "execution_count": 1,
      "metadata": {
        "colab": {
          "base_uri": "https://localhost:8080/"
        },
        "id": "MrHqfcbyar1U",
        "outputId": "f916fd44-b2de-4861-d651-031b49cf5f4c"
      },
      "outputs": [
        {
          "output_type": "stream",
          "name": "stdout",
          "text": [
            "Mounted at /content/drive\n"
          ]
        }
      ],
      "source": [
        "from google.colab import drive\n",
        "drive.mount('/content/drive')"
      ]
    },
    {
      "cell_type": "code",
      "execution_count": null,
      "metadata": {
        "colab": {
          "base_uri": "https://localhost:8080/"
        },
        "id": "SroZUzTMa-sX",
        "outputId": "13b6e4c9-cc11-4b93-d146-571424f710d2"
      },
      "outputs": [
        {
          "output_type": "stream",
          "name": "stdout",
          "text": [
            "Collecting tsplib95\n",
            "  Downloading tsplib95-0.7.1-py2.py3-none-any.whl (25 kB)\n",
            "Requirement already satisfied: Click>=6.0 in /usr/local/lib/python3.10/dist-packages (from tsplib95) (8.1.7)\n",
            "Collecting Deprecated~=1.2.9 (from tsplib95)\n",
            "  Downloading Deprecated-1.2.14-py2.py3-none-any.whl (9.6 kB)\n",
            "Collecting networkx~=2.1 (from tsplib95)\n",
            "  Downloading networkx-2.8.8-py3-none-any.whl (2.0 MB)\n",
            "\u001b[2K     \u001b[90m━━━━━━━━━━━━━━━━━━━━━━━━━━━━━━━━━━━━━━━━\u001b[0m \u001b[32m2.0/2.0 MB\u001b[0m \u001b[31m12.3 MB/s\u001b[0m eta \u001b[36m0:00:00\u001b[0m\n",
            "\u001b[?25hCollecting tabulate~=0.8.7 (from tsplib95)\n",
            "  Downloading tabulate-0.8.10-py3-none-any.whl (29 kB)\n",
            "Requirement already satisfied: wrapt<2,>=1.10 in /usr/local/lib/python3.10/dist-packages (from Deprecated~=1.2.9->tsplib95) (1.14.1)\n",
            "Installing collected packages: tabulate, networkx, Deprecated, tsplib95\n",
            "  Attempting uninstall: tabulate\n",
            "    Found existing installation: tabulate 0.9.0\n",
            "    Uninstalling tabulate-0.9.0:\n",
            "      Successfully uninstalled tabulate-0.9.0\n",
            "  Attempting uninstall: networkx\n",
            "    Found existing installation: networkx 3.2.1\n",
            "    Uninstalling networkx-3.2.1:\n",
            "      Successfully uninstalled networkx-3.2.1\n",
            "\u001b[31mERROR: pip's dependency resolver does not currently take into account all the packages that are installed. This behaviour is the source of the following dependency conflicts.\n",
            "bigframes 0.21.0 requires tabulate>=0.9, but you have tabulate 0.8.10 which is incompatible.\u001b[0m\u001b[31m\n",
            "\u001b[0mSuccessfully installed Deprecated-1.2.14 networkx-2.8.8 tabulate-0.8.10 tsplib95-0.7.1\n"
          ]
        }
      ],
      "source": [
        "%pip install tsplib95"
      ]
    },
    {
      "cell_type": "code",
      "execution_count": null,
      "metadata": {
        "colab": {
          "base_uri": "https://localhost:8080/"
        },
        "id": "LRAKFkXWzqZr",
        "outputId": "ca1132e3-90ab-476f-973b-a32c3e53975e"
      },
      "outputs": [
        {
          "output_type": "stream",
          "name": "stdout",
          "text": [
            "Optimum: 672\n",
            "Best solution: 672\n",
            "Worst solution: 702\n",
            "Moyenne: 685.5\n",
            "Ecart type: 8.309632964216892\n",
            "c1 (nbr de fois optimum atteint): 1\n",
            "c2 (nbr de fois optimum n’est pas atteint): 9\n",
            "Temps d'exécution (s): 1843.0573263168335\n"
          ]
        }
      ],
      "source": [
        "import tsplib95  # Importer la bibliothèque tsplib95\n",
        "import random  # Importer la bibliothèque random\n",
        "import numpy as np  # Importer la bibliothèque numpy sous le nom np\n",
        "import time  # Importer la bibliothèque time\n",
        "\n",
        "# Charger l'instance TSP à partir d'un fichier\n",
        "problem = tsplib95.load(r'/content/drive/MyDrive/Colab Notebooks/tsplib/eil101.tsp')\n",
        "\n",
        "# Obtenir le nombre de nœuds dans l'instance TSP\n",
        "n = len(problem.node_coords)\n",
        "\n",
        "# Définir une fonction pour calculer la distance totale d'un parcours\n",
        "def calculate_tour_distance(tour):\n",
        "    total_distance = 0\n",
        "    for i in range(len(tour)):\n",
        "        total_distance += problem.get_weight(tour[i - 1], tour[i])\n",
        "    return total_distance\n",
        "\n",
        "# Définir une fonction pour générer un parcours initial aléatoire\n",
        "def generate_random_tour():\n",
        "    tour = list(range(1, n+1))\n",
        "    random.shuffle(tour)\n",
        "    return tour\n",
        "\n",
        "# Définir une fonction pour effectuer une recherche locale 2-opt\n",
        "def two_opt_local_search(initial_tour):\n",
        "    current_tour = initial_tour[:]\n",
        "    best_tour = current_tour[:]\n",
        "    best_distance = calculate_tour_distance(best_tour)\n",
        "\n",
        "    improved = True\n",
        "    while improved:\n",
        "        improved = False\n",
        "        for i in range(1, n - 1):\n",
        "            for j in range(i + 1, n):\n",
        "                new_tour = current_tour[:]\n",
        "                new_tour[i:j+1] = reversed(new_tour[i:j+1])  # Effectuer l'échange 2-opt\n",
        "                new_distance = calculate_tour_distance(new_tour)\n",
        "                if new_distance < best_distance:\n",
        "                    best_tour = new_tour[:]\n",
        "                    best_distance = new_distance\n",
        "                    improved = True\n",
        "        current_tour = best_tour[:]\n",
        "\n",
        "    return best_tour, best_distance\n",
        "\n",
        "# Définir une fonction pour calculer les statistiques\n",
        "def calculate_statistics(results):\n",
        "    optimum = min(results)\n",
        "    best_solution = min(results)\n",
        "    worst_solution = max(results)\n",
        "    moyenne = sum(results) / len(results)\n",
        "    ecart_type = np.std(results)\n",
        "    c1 = results.count(optimum)\n",
        "    c2 = len(results) - c1\n",
        "    return optimum, best_solution, worst_solution, moyenne, ecart_type, c1, c2\n",
        "\n",
        "# Définir le nombre d'itérations\n",
        "num_iterations = 10\n",
        "\n",
        "# Exécuter l'algorithme plusieurs fois\n",
        "execution_times = []\n",
        "solutions = []\n",
        "\n",
        "for _ in range(num_iterations):\n",
        "    start_time = time.time()\n",
        "    initial_tour = generate_random_tour()\n",
        "    best_tour, best_distance = two_opt_local_search(initial_tour)\n",
        "    end_time = time.time()\n",
        "    execution_time = end_time - start_time\n",
        "    execution_times.append(execution_time)\n",
        "    solutions.append(best_distance)\n",
        "\n",
        "# Calculer les statistiques\n",
        "optimum, best_solution, worst_solution, moyenne, ecart_type, c1, c2 = calculate_statistics(solutions)\n",
        "\n",
        "# Afficher les informations\n",
        "print(\"Optimum:\", optimum)\n",
        "print(\"Meilleure solution:\", best_solution)\n",
        "print(\"Pire solution:\", worst_solution)\n",
        "print(\"Moyenne:\", moyenne)\n",
        "print(\"Écart type:\", ecart_type)\n",
        "print(\"c1 (nombre de fois où l'optimum est atteint):\", c1)\n",
        "print(\"c2 (nombre de fois où l'optimum n'est pas atteint):\", c2)\n",
        "print(\"Temps d'exécution (s):\", sum(execution_times))\n"
      ]
    },
    {
      "cell_type": "code",
      "source": [
        "import numpy as np\n",
        "import time\n",
        "\n",
        "def qap_obj(a, b, p):\n",
        "    \"\"\"\n",
        "    Calcule la valeur objective d'une solution pour le QAP.\n",
        "\n",
        "    Args:\n",
        "    - a (numpy.ndarray): Matrice des flux.\n",
        "    - b (numpy.ndarray): Matrice des distances.\n",
        "    - p (numpy.ndarray): Permutation.\n",
        "\n",
        "    Returns:\n",
        "    - float: Valeur objective.\n",
        "    \"\"\"\n",
        "    return np.sum(a * b[p[:, None], p])\n",
        "\n",
        "def qap_local_search(a, b, max_iter=1000):\n",
        "    \"\"\"\n",
        "    Effectue une recherche locale pour le QAP en utilisant 2-opt.\n",
        "\n",
        "    Args:\n",
        "    - a (numpy.ndarray): Matrice des flux.\n",
        "    - b (numpy.ndarray): Matrice des distances.\n",
        "    - max_iter (int): Nombre maximum d'itérations.\n",
        "\n",
        "    Returns:\n",
        "    - numpy.ndarray: Meilleure permutation trouvée.\n",
        "    - float: Valeur objective de la meilleure permutation.\n",
        "    - list: Liste des coûts rencontrés pendant la recherche.\n",
        "    \"\"\"\n",
        "    n = len(a)\n",
        "    if n == 0:\n",
        "        return np.array([]), 0, []\n",
        "\n",
        "    best_p = np.random.permutation(n)\n",
        "    best_cost = qap_obj(a, b, best_p)\n",
        "\n",
        "    costs = [best_cost]\n",
        "    for _ in range(max_iter):\n",
        "        i, j = np.random.choice(n, 2, replace=False)\n",
        "        new_p = best_p.copy()\n",
        "        new_p[i], new_p[j] = new_p[j], new_p[i]\n",
        "        new_cost = qap_obj(a, b, new_p)\n",
        "        if new_cost < best_cost:\n",
        "            best_p = new_p\n",
        "            best_cost = new_cost\n",
        "        costs.append(new_cost)\n",
        "\n",
        "    return best_p, best_cost, costs\n",
        "\n",
        "# Charger les données QAP depuis bur26a.dat\n",
        "with open(r'/content/drive/MyDrive/Colab Notebooks/qaplib/tai50a.dat', 'r') as f:\n",
        "    lines = f.readlines()\n",
        "\n",
        "data = [list(map(int, line.split())) for line in lines if line.strip()]\n",
        "n = data[0][0]\n",
        "a = np.array(data[1:n+1])\n",
        "b = np.array(data[n+1:])\n",
        "\n",
        "start_time = time.time()\n",
        "\n",
        "# Effectuer une recherche locale pour le QAP\n",
        "meilleure_permutation, meilleur_cout, couts = qap_local_search(a, b)\n",
        "\n",
        "end_time = time.time()\n",
        "execution_time = end_time - start_time\n",
        "\n",
        "cout_moyen = np.mean(couts)\n",
        "ecart_type = np.std(couts)\n",
        "\n",
        "print(\"Meilleure permutation :\", meilleure_permutation)\n",
        "print(\"Meilleur coût :\", meilleur_cout)\n",
        "print(\"Coût moyen :\", cout_moyen)\n",
        "print(\"Écart type :\", ecart_type)\n",
        "print(\"Temps d'exécution :\", execution_time, \"secondes\")\n"
      ],
      "metadata": {
        "colab": {
          "base_uri": "https://localhost:8080/"
        },
        "id": "N_djGU5lRuBV",
        "outputId": "a797c20c-33b8-4c8c-ce4e-562e5cfa1937"
      },
      "execution_count": null,
      "outputs": [
        {
          "output_type": "stream",
          "name": "stdout",
          "text": [
            "Meilleure permutation : [18 30  1 28 48 26 44  7 31  2 45  3 32 15 35 36 34 25 43 13 17  4 41 37\n",
            " 42 46  6  0 19  9 40 20 23 24 38 21 12 14 10  8 16 47 27 39 33 11 49 22\n",
            " 29  5]\n",
            "Meilleur coût : 5283370\n",
            "Coût moyen : 5458184.367632368\n",
            "Écart type : 111208.64162186916\n",
            "Temps d'exécution : 0.09538006782531738 secondes\n"
          ]
        }
      ]
    },
    {
      "cell_type": "markdown",
      "metadata": {
        "id": "81K2pMGMzKPf"
      },
      "source": []
    }
  ],
  "metadata": {
    "colab": {
      "provenance": []
    },
    "kernelspec": {
      "display_name": "Python 3",
      "name": "python3"
    },
    "language_info": {
      "name": "python"
    }
  },
  "nbformat": 4,
  "nbformat_minor": 0
}